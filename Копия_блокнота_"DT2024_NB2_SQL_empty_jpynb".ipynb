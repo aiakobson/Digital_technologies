{
  "cells": [
    {
      "cell_type": "markdown",
      "metadata": {
        "id": "view-in-github",
        "colab_type": "text"
      },
      "source": [
        "<a href=\"https://colab.research.google.com/github/aiakobson/Digital_technologies/blob/main/%D0%9A%D0%BE%D0%BF%D0%B8%D1%8F_%D0%B1%D0%BB%D0%BE%D0%BA%D0%BD%D0%BE%D1%82%D0%B0_%22DT2024_NB2_SQL_empty_jpynb%22.ipynb\" target=\"_parent\"><img src=\"https://colab.research.google.com/assets/colab-badge.svg\" alt=\"Open In Colab\"/></a>"
      ]
    },
    {
      "cell_type": "markdown",
      "metadata": {
        "id": "tRHyN7N81xCS"
      },
      "source": [
        "<font color=\"green\">*To work with this notebook, we will need to save our own copy of it. We can do this by clicking File > Save a Copy in Drive. We will then be able to make edits to our own copy of this notebook. Source: Some Items from the Moringa Data Science Course.  \n",
        "\n",
        "Skeleton notebook for class exercises\n",
        "\n",
        "*</font>\n",
        "\n"
      ]
    },
    {
      "cell_type": "markdown",
      "metadata": {
        "id": "_brgSPnC2ClB"
      },
      "source": [
        "# SQL Programming - Getting Started with Databases"
      ]
    },
    {
      "cell_type": "markdown",
      "metadata": {
        "id": "_D8JbTh02GDA"
      },
      "source": [
        "## 1.1 Overview"
      ]
    },
    {
      "cell_type": "markdown",
      "metadata": {
        "id": "ueOY-njw3bzC"
      },
      "source": [
        "Structured Query Language (SQL) is the language that is used to store, manipulate and retrieve data from many databases. It is the standard language for many relational database management systems which are a type of databases used by organisations across the world. These type of relational database management systems are used to store data in tables and examples of such include SQLite, MySQL, Postgres, Oracle etc.\n",
        "\n",
        "During DT course, we will learn about SQL since we may be required to retrieve data from databases through the use of SQL.\n",
        "\n",
        "In this notebook, we will use SQL to learn how tables in databases are created. More specifically, we will learn how the structure of tables is defined which is critical in determining the quality of data. The better the structure, the easier it becomes to clean data."
      ]
    },
    {
      "cell_type": "markdown",
      "metadata": {
        "id": "D6BU_C0d3dMo"
      },
      "source": [
        "## 1.2 Connecting to our Database"
      ]
    },
    {
      "cell_type": "markdown",
      "metadata": {
        "id": "7JK1sBqVKNUm"
      },
      "source": []
    },
    {
      "cell_type": "code",
      "execution_count": null,
      "metadata": {
        "id": "PDk968tq3v43",
        "outputId": "0792e277-e039-4670-bcd2-b59c16871664",
        "colab": {
          "base_uri": "https://localhost:8080/"
        }
      },
      "outputs": [
        {
          "output_type": "stream",
          "name": "stdout",
          "text": [
            "Collecting sqlalchemy==2.0\n",
            "  Downloading SQLAlchemy-2.0.0-cp310-cp310-manylinux_2_17_x86_64.manylinux2014_x86_64.whl (2.7 MB)\n",
            "\u001b[2K     \u001b[90m━━━━━━━━━━━━━━━━━━━━━━━━━━━━━━━━━━━━━━━━\u001b[0m \u001b[32m2.7/2.7 MB\u001b[0m \u001b[31m12.9 MB/s\u001b[0m eta \u001b[36m0:00:00\u001b[0m\n",
            "\u001b[?25hRequirement already satisfied: typing-extensions>=4.2.0 in /usr/local/lib/python3.10/dist-packages (from sqlalchemy==2.0) (4.9.0)\n",
            "Requirement already satisfied: greenlet!=0.4.17 in /usr/local/lib/python3.10/dist-packages (from sqlalchemy==2.0) (3.0.3)\n",
            "Installing collected packages: sqlalchemy\n",
            "  Attempting uninstall: sqlalchemy\n",
            "    Found existing installation: SQLAlchemy 2.0.27\n",
            "    Uninstalling SQLAlchemy-2.0.27:\n",
            "      Successfully uninstalled SQLAlchemy-2.0.27\n",
            "Successfully installed sqlalchemy-2.0.0\n"
          ]
        }
      ],
      "source": [
        "!pip install sqlalchemy==2.0\n",
        "#!pip install sqlalchemy==1.4.4\n",
        "\n",
        "# We will first load an sql extension into our environment\n",
        "# This extension will allow us to work with sql on Colaboratory\n",
        "#\n",
        "%load_ext sql\n",
        "\n",
        "# We will then connect to our in memory sqlite database\n",
        "# NB: This database will cease to exist as soon as the database connection is closed.\n",
        "# We will learn more about how databases are created later in prep.\n",
        "#\n",
        "%sql sqlite:///mydb.sqlite"
      ]
    },
    {
      "cell_type": "markdown",
      "metadata": {
        "id": "TjMtC5JN7ZoI"
      },
      "source": [
        "## 1.3 Creating a Table"
      ]
    },
    {
      "cell_type": "code",
      "execution_count": null,
      "metadata": {
        "id": "ee0bJxIKPQvK"
      },
      "outputs": [],
      "source": [
        "# Example 1\n",
        "# We will now define and create a table STUDENT in our database (if it doesn't exist).\n",
        "# This table will have fields: StudentID, LastName as shown below.\n",
        "# We will then fetch all records from the table.\n",
        "#\n"
      ]
    },
    {
      "cell_type": "markdown",
      "metadata": {
        "id": "nxFVrGvRNuZm"
      },
      "source": [
        "## 1.4 Inserting values"
      ]
    },
    {
      "cell_type": "code",
      "execution_count": null,
      "metadata": {
        "id": "uJ7Zo4RWtt9Q"
      },
      "outputs": [],
      "source": [
        "# Example 2\n",
        "# In this example, we will insert students tuples in STUDENTS table.\n",
        "# Then we will fetch all the data from the table\n"
      ]
    },
    {
      "cell_type": "code",
      "execution_count": null,
      "metadata": {
        "id": "TUE5ZjSKwBqZ"
      },
      "outputs": [],
      "source": [
        "# Example 3\n",
        "# In this example, we will insert students tuples in STUDENTS table.\n",
        "# Then we will fetch all the data from the table\n"
      ]
    },
    {
      "cell_type": "markdown",
      "metadata": {
        "id": "sEEbwMn-OD4a"
      },
      "source": [
        "## 1.5 Inserting values from a local file"
      ]
    },
    {
      "cell_type": "code",
      "execution_count": null,
      "metadata": {
        "id": "og8GN9A3JC_-"
      },
      "outputs": [],
      "source": [
        "# Example 4\n",
        "# In this example, we will create a COURSE table for a student management system.\n",
        "# This will be imported from a CSV file on a local csv file in the Files directory\n",
        "# First, grab the file from https://www.dropbox.com/s/zp9v160frc6c4lw/COURSE.csv?dl=0\n",
        "# and upload it in the folder Files you have in the first column (click on the Folder icon)\n",
        "# Then fetch all records from COURSE table.\n",
        "#\n",
        "# Load example table with Pandas\n",
        "# Connect to local dabatase\n",
        "import sqlite3\n",
        "cnx = sqlite3.connect('mydb.sqlite')\n",
        "\n",
        "import pandas as pd\n",
        "df = pd.read_csv('COURSE.csv', sep=';')\n",
        "\n",
        "# Dump it to sqlite!\n",
        "df.to_sql(name='COURSE', if_exists='replace', index=False, con=cnx)\n",
        "\n",
        "# Bye bye\n",
        "cnx.close()\n",
        "\n",
        "\n"
      ]
    },
    {
      "cell_type": "code",
      "execution_count": null,
      "metadata": {
        "id": "c1Rsn1xkSvwY"
      },
      "outputs": [],
      "source": [
        "%%sql\n",
        "SELECT * From COURSE;"
      ]
    },
    {
      "cell_type": "markdown",
      "metadata": {
        "id": "ModZIkTDOP0u"
      },
      "source": [
        "## 1.6 Creating a table and inserting partial data"
      ]
    },
    {
      "cell_type": "code",
      "execution_count": null,
      "metadata": {
        "id": "y2enJPxIxa_m"
      },
      "outputs": [],
      "source": [
        "# Example 5\n",
        "# In this example, we will create a EXAM table for a student management system.\n",
        "#\n",
        "\n",
        "\n"
      ]
    },
    {
      "cell_type": "code",
      "execution_count": null,
      "metadata": {
        "id": "gzQWu2LKzbz_"
      },
      "outputs": [],
      "source": [
        "# Example 6\n",
        "# In this example, we will insert two tuples in the EXAM table for a student management system.\n",
        "#\n",
        "\n"
      ]
    },
    {
      "cell_type": "code",
      "execution_count": null,
      "metadata": {
        "id": "St_t0cvH1Tw7"
      },
      "outputs": [],
      "source": [
        "# Example 7\n",
        "# In this example, we will insert a tuple in the EXAM table with CourseID 7 for StudentID 13.\n",
        "#\n"
      ]
    },
    {
      "cell_type": "markdown",
      "metadata": {
        "id": "nR2MJyBtOavu"
      },
      "source": [
        "## 1.8 Joining tables"
      ]
    },
    {
      "cell_type": "code",
      "execution_count": null,
      "metadata": {
        "id": "wTjQJR131rT6"
      },
      "outputs": [],
      "source": [
        "# Example 8\n",
        "# In this example, we will select the names of the courses in which Students are registered (join of tables)\n",
        "#\n"
      ]
    },
    {
      "cell_type": "code",
      "execution_count": null,
      "metadata": {
        "id": "uqWr--pe5n-a"
      },
      "outputs": [],
      "source": [
        "# Example 9\n",
        "# In this example, we will modify the EXAM table to be able to insert Cum Laude grades, adding a new column Laude\n",
        "#\n"
      ]
    },
    {
      "cell_type": "code",
      "execution_count": null,
      "metadata": {
        "id": "0FmFgfaTbZO6"
      },
      "outputs": [],
      "source": [
        "# Example 10\n",
        "# In this example, we will update the grade for student 32 in course 7 in the EXAM table\n",
        "# to indicate a Cum Laude (L)\n",
        "#\n"
      ]
    },
    {
      "cell_type": "markdown",
      "metadata": {
        "id": "AG92ITgJ6deV"
      },
      "source": [
        "#Views\n",
        "\n"
      ]
    },
    {
      "cell_type": "code",
      "execution_count": null,
      "metadata": {
        "id": "dAaYNO9y6oCA"
      },
      "outputs": [],
      "source": [
        "# Example 11\n",
        "#Create a view for user 13 (Batini)\n",
        "#DROP VIEW needed in case you rerun this cell\n",
        "#using\n",
        "#CREATE VIEW V13 (CourseID, CourseName) AS then a SQL query\n",
        "\n"
      ]
    },
    {
      "cell_type": "markdown",
      "metadata": {
        "id": "zU-W6It_PLyY"
      },
      "source": [
        "## 1.9 About the structure of a table"
      ]
    },
    {
      "cell_type": "code",
      "execution_count": null,
      "metadata": {
        "id": "Y3Z2emGQPZ1c"
      },
      "outputs": [],
      "source": [
        "# Example 12\n",
        "# To show the structure of a table\n",
        "# We do the following as shown below.\n",
        "#\n",
        "%%sql\n",
        "PRAGMA  table_info(EXAM)"
      ]
    },
    {
      "cell_type": "markdown",
      "source": [
        "# Constraints"
      ],
      "metadata": {
        "id": "Ac8aB-gTP5Dq"
      }
    },
    {
      "cell_type": "code",
      "execution_count": null,
      "metadata": {
        "id": "_ut68z0BgfW9"
      },
      "outputs": [],
      "source": [
        "# Example 13\n",
        "# To specify domains and default values for the fields in a new table TeamMembers,\n",
        "# We do the following as shown below.\n",
        "#\n",
        "%%sql\n",
        "CREATE TABLE IF NOT EXISTS TeamMembers (\n",
        "    id INTEGER PRIMARY KEY,\n",
        "    name TEXT,\n",
        "    age INTEGER DEFAULT 'Unknown',\n",
        "    height REAL);\n",
        "\n",
        "PRAGMA  table_info(TeamMembers)"
      ]
    },
    {
      "cell_type": "code",
      "execution_count": null,
      "metadata": {
        "id": "cvdHcAELX39A"
      },
      "outputs": [],
      "source": [
        "# Example 14\n",
        "# To specify domains and default values for the fields in a new table TeamMembers,\n",
        "# We do the following as shown below.\n",
        "#\n",
        "%%sql\n",
        "CREATE TABLE Persons (\n",
        "PersonID int,\n",
        "LastName varchar(255),\n",
        "FirstName varchar(255),\n",
        "Address varchar(255),\n",
        "City varchar(255)\n",
        ");\n",
        "\n",
        "PRAGMA  table_info(Persons)"
      ]
    },
    {
      "cell_type": "code",
      "source": [
        "#with PRAGMA analyse the COURSE and EXAM tables\n",
        "\n"
      ],
      "metadata": {
        "id": "eptUKbQfmvoD"
      },
      "execution_count": null,
      "outputs": []
    },
    {
      "cell_type": "markdown",
      "metadata": {
        "id": "IjWfAqszO5Zo"
      },
      "source": [
        "## 1.10 SQL result set to a local variable and then to CSV"
      ]
    },
    {
      "cell_type": "code",
      "execution_count": null,
      "metadata": {
        "id": "vApCEdDQO33m"
      },
      "outputs": [],
      "source": [
        "# Example 15\n",
        "# To export the result of a query to a local variable result_set\n",
        "\n",
        "%%sql\n",
        "result_set << SELECT * FROM EXAM;"
      ]
    },
    {
      "cell_type": "code",
      "execution_count": null,
      "metadata": {
        "id": "bKx6ca7-QFrz"
      },
      "outputs": [],
      "source": [
        "# Example 16\n",
        "# And then to a CSV file (in local folders Files)\n",
        "\n",
        "df = result_set.DataFrame()\n",
        "df.to_csv('EXAM.csv', index=False, sep=';')\n",
        "\n",
        "#alternative\n",
        "#result_set.DataFrame().to_csv('EXAM.csv', index=False, sep=';')\n",
        "\n",
        "\n"
      ]
    },
    {
      "cell_type": "code",
      "source": [
        "#see the file  !head <filename> shows the first 10 lines\n",
        "\n",
        "\n",
        "!head EXAM.csv"
      ],
      "metadata": {
        "id": "vjyyfH7xVw_S"
      },
      "execution_count": null,
      "outputs": []
    },
    {
      "cell_type": "code",
      "source": [
        "#to see the whole file (in this case is the same)\n",
        "\n",
        "!cat EXAM.csv"
      ],
      "metadata": {
        "id": "qT9GcyBPWLps"
      },
      "execution_count": null,
      "outputs": []
    },
    {
      "cell_type": "code",
      "source": [
        "#export also STUDENT\n",
        "\n",
        "%%sql\n",
        "result_set << SELECT * FROM STUDENT;\n",
        "\n",
        "\n"
      ],
      "metadata": {
        "id": "oCHlG5jlX5Hw"
      },
      "execution_count": null,
      "outputs": []
    },
    {
      "cell_type": "code",
      "source": [
        "df = result_set.DataFrame()\n",
        "df.to_csv('STUDENT.csv', index=False, sep=';')"
      ],
      "metadata": {
        "id": "uU31WGZIY1J_"
      },
      "execution_count": null,
      "outputs": []
    },
    {
      "cell_type": "code",
      "source": [
        "#an alternative\n",
        "#SQL and Python in the same cell\n",
        "\n",
        "%sql result_set << SELECT * FROM STUDENT;\n",
        "df = result_set.DataFrame()\n",
        "df.to_csv('STUDENT2.csv', index=False, sep=';')"
      ],
      "metadata": {
        "id": "EaQ6BP8fjyN2"
      },
      "execution_count": null,
      "outputs": []
    },
    {
      "cell_type": "markdown",
      "metadata": {
        "id": "Xr_iw9O1gynX"
      },
      "source": [
        "## <font color=\"green\"> 1.11 Challenges</font>"
      ]
    },
    {
      "cell_type": "code",
      "execution_count": null,
      "metadata": {
        "id": "H0X577pGgxuY"
      },
      "outputs": [],
      "source": [
        "# Challenge 1\n",
        "# Let's create 3 Tables Customer, Product, Sale\n",
        "# Each has a key, attributes for describing them (e.g. Name, age for customers, brand for Products)\n",
        "# Sales contains tuples indicating sales of products to customers, with Quantity and Date\n",
        "# Insert 2 customers and 3 products\n",
        "# Insert a tuple into Sale\n",
        "# Display the age of Customers and Date for each sale\n",
        "# Tip1: you can also create csv files and upload them as shown in Example 4\n",
        "# Tip2: if you want to delete a table and its contents to restart you can use\n",
        "# DROP TABLE TableName;\n",
        "\n",
        "%%sql\n",
        "CREATE TABLE IF NOT EXISTS ....(\n",
        "\n",
        "\n"
      ]
    }
  ],
  "metadata": {
    "colab": {
      "collapsed_sections": [
        "_D8JbTh02GDA",
        "D6BU_C0d3dMo"
      ],
      "provenance": [],
      "include_colab_link": true
    },
    "gpuClass": "standard",
    "kernelspec": {
      "display_name": "Python 3",
      "name": "python3"
    }
  },
  "nbformat": 4,
  "nbformat_minor": 0
}