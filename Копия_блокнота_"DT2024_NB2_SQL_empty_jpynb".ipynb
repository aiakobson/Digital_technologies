{
  "cells": [
    {
      "cell_type": "markdown",
      "metadata": {
        "id": "view-in-github",
        "colab_type": "text"
      },
      "source": [
        "<a href=\"https://colab.research.google.com/github/aiakobson/Digital_technologies/blob/main/%D0%9A%D0%BE%D0%BF%D0%B8%D1%8F_%D0%B1%D0%BB%D0%BE%D0%BA%D0%BD%D0%BE%D1%82%D0%B0_%22DT2024_NB2_SQL_empty_jpynb%22.ipynb\" target=\"_parent\"><img src=\"https://colab.research.google.com/assets/colab-badge.svg\" alt=\"Open In Colab\"/></a>"
      ]
    },
    {
      "cell_type": "markdown",
      "metadata": {
        "id": "tRHyN7N81xCS"
      },
      "source": [
        "<font color=\"green\">*To work with this notebook, we will need to save our own copy of it. We can do this by clicking File > Save a Copy in Drive. We will then be able to make edits to our own copy of this notebook. Source: Some Items from the Moringa Data Science Course.  \n",
        "\n",
        "Skeleton notebook for class exercises\n",
        "\n",
        "*</font>\n",
        "\n"
      ]
    },
    {
      "cell_type": "markdown",
      "metadata": {
        "id": "_brgSPnC2ClB"
      },
      "source": [
        "# SQL Programming - Getting Started with Databases"
      ]
    },
    {
      "cell_type": "markdown",
      "metadata": {
        "id": "_D8JbTh02GDA"
      },
      "source": [
        "## 1.1 Overview"
      ]
    },
    {
      "cell_type": "markdown",
      "metadata": {
        "id": "ueOY-njw3bzC"
      },
      "source": [
        "Structured Query Language (SQL) is the language that is used to store, manipulate and retrieve data from many databases. It is the standard language for many relational database management systems which are a type of databases used by organisations across the world. These type of relational database management systems are used to store data in tables and examples of such include SQLite, MySQL, Postgres, Oracle etc.\n",
        "\n",
        "During DT course, we will learn about SQL since we may be required to retrieve data from databases through the use of SQL.\n",
        "\n",
        "In this notebook, we will use SQL to learn how tables in databases are created. More specifically, we will learn how the structure of tables is defined which is critical in determining the quality of data. The better the structure, the easier it becomes to clean data."
      ]
    },
    {
      "cell_type": "markdown",
      "metadata": {
        "id": "D6BU_C0d3dMo"
      },
      "source": [
        "## 1.2 Connecting to our Database"
      ]
    },
    {
      "cell_type": "markdown",
      "metadata": {
        "id": "7JK1sBqVKNUm"
      },
      "source": []
    },
    {
      "cell_type": "code",
      "execution_count": 6,
      "metadata": {
        "id": "PDk968tq3v43",
        "outputId": "62ba61ca-76b0-4b14-ee87-8aaadd7f194c",
        "colab": {
          "base_uri": "https://localhost:8080/"
        }
      },
      "outputs": [
        {
          "output_type": "stream",
          "name": "stdout",
          "text": [
            "Requirement already satisfied: sqlalchemy==2.0 in /usr/local/lib/python3.10/dist-packages (2.0.0)\n",
            "Requirement already satisfied: typing-extensions>=4.2.0 in /usr/local/lib/python3.10/dist-packages (from sqlalchemy==2.0) (4.10.0)\n",
            "Requirement already satisfied: greenlet!=0.4.17 in /usr/local/lib/python3.10/dist-packages (from sqlalchemy==2.0) (3.0.3)\n",
            "The sql extension is already loaded. To reload it, use:\n",
            "  %reload_ext sql\n"
          ]
        }
      ],
      "source": [
        "!pip install sqlalchemy==2.0\n",
        "#!pip install sqlalchemy==1.4.4\n",
        "\n",
        "# We will first load an sql extension into our environment\n",
        "# This extension will allow us to work with sql on Colaboratory\n",
        "#\n",
        "%load_ext sql\n",
        "\n",
        "# We will then connect to our in memory sqlite database\n",
        "# NB: This database will cease to exist as soon as the database connection is closed.\n",
        "# We will learn more about how databases are created later in prep.\n",
        "#\n",
        "%sql sqlite:///mydb.sqlite"
      ]
    },
    {
      "cell_type": "markdown",
      "metadata": {
        "id": "TjMtC5JN7ZoI"
      },
      "source": [
        "## 1.3 Creating a Table"
      ]
    },
    {
      "cell_type": "code",
      "execution_count": 21,
      "metadata": {
        "id": "ee0bJxIKPQvK",
        "colab": {
          "base_uri": "https://localhost:8080/"
        },
        "outputId": "08585899-ad95-44b3-d2b9-326d2d3854c8"
      },
      "outputs": [
        {
          "output_type": "stream",
          "name": "stdout",
          "text": [
            " * sqlite:///mydb.sqlite\n",
            "Done.\n",
            " * sqlite:///mydb.sqlite\n",
            "(sqlite3.OperationalError) table COURSE already exists\n",
            "[SQL: CREATE TABLE COURSE (CourseId, Name);]\n",
            "(Background on this error at: https://sqlalche.me/e/20/e3q8)\n",
            " * sqlite:///mydb.sqlite\n",
            "(sqlite3.OperationalError) table GRADE already exists\n",
            "[SQL: CREATE TABLE GRADE (StudentID, CourseID, Grade);]\n",
            "(Background on this error at: https://sqlalche.me/e/20/e3q8)\n"
          ]
        }
      ],
      "source": [
        "# Example 1\n",
        "# We will now define and create a table STUDENT in our database (if it doesn't exist).\n",
        "# This table will have fields: StudentID, LastName as shown below.\n",
        "# We will then fetch all records from the table.\n",
        "#\n",
        "%sql CREATE TABLE STUDENT (StudentID, LastName);\n",
        "\n"
      ]
    },
    {
      "cell_type": "markdown",
      "metadata": {
        "id": "nxFVrGvRNuZm"
      },
      "source": [
        "## 1.4 Inserting values"
      ]
    },
    {
      "cell_type": "code",
      "execution_count": 22,
      "metadata": {
        "id": "uJ7Zo4RWtt9Q",
        "colab": {
          "base_uri": "https://localhost:8080/",
          "height": 158
        },
        "outputId": "0a60138e-b8bc-423b-b29c-9c05b411dbf6"
      },
      "outputs": [
        {
          "output_type": "stream",
          "name": "stdout",
          "text": [
            " * sqlite:///mydb.sqlite\n",
            "3 rows affected.\n",
            "Done.\n"
          ]
        },
        {
          "output_type": "execute_result",
          "data": {
            "text/plain": [
              "[('21', 'Wang'), ('13', 'Batini'), ('32', 'Xu')]"
            ],
            "text/html": [
              "<table>\n",
              "    <thead>\n",
              "        <tr>\n",
              "            <th>StudentID</th>\n",
              "            <th>LastName</th>\n",
              "        </tr>\n",
              "    </thead>\n",
              "    <tbody>\n",
              "        <tr>\n",
              "            <td>21</td>\n",
              "            <td>Wang</td>\n",
              "        </tr>\n",
              "        <tr>\n",
              "            <td>13</td>\n",
              "            <td>Batini</td>\n",
              "        </tr>\n",
              "        <tr>\n",
              "            <td>32</td>\n",
              "            <td>Xu</td>\n",
              "        </tr>\n",
              "    </tbody>\n",
              "</table>"
            ]
          },
          "metadata": {},
          "execution_count": 22
        }
      ],
      "source": [
        "# Example 2\n",
        "# In this example, we will insert students tuples in STUDENTS table.\n",
        "# Then we will fetch all the data from the table\n",
        "\n",
        "%%sql INSERT INTO STUDENT (StudentID, LastName)\n",
        "VALUES ('21','Wang'),\n",
        "      ('13','Batini'),\n",
        "        ('32','Xu');\n",
        "SELECT * from STUDENT;\n"
      ]
    },
    {
      "cell_type": "code",
      "execution_count": 19,
      "metadata": {
        "id": "TUE5ZjSKwBqZ",
        "colab": {
          "base_uri": "https://localhost:8080/"
        },
        "outputId": "a2332b70-99cd-4374-b340-037def3adedf"
      },
      "outputs": [
        {
          "output_type": "stream",
          "name": "stdout",
          "text": [
            " * sqlite:///mydb.sqlite\n",
            "Done.\n"
          ]
        },
        {
          "output_type": "execute_result",
          "data": {
            "text/plain": [
              "[]"
            ]
          },
          "metadata": {},
          "execution_count": 19
        }
      ],
      "source": [
        "# Example 3\n",
        "# In this example, we will insert students tuples in STUDENTS table.\n",
        "# Then we will fetch all the data from the table\n",
        "%%sql DROP TABLE STUDENT;"
      ]
    },
    {
      "cell_type": "markdown",
      "metadata": {
        "id": "sEEbwMn-OD4a"
      },
      "source": [
        "## 1.5 Inserting values from a local file"
      ]
    },
    {
      "cell_type": "code",
      "execution_count": 23,
      "metadata": {
        "id": "og8GN9A3JC_-"
      },
      "outputs": [],
      "source": [
        "# Example 4\n",
        "# In this example, we will create a COURSE table for a student management system.\n",
        "# This will be imported from a CSV file on a local csv file in the Files directory\n",
        "# First, grab the file from https://www.dropbox.com/s/zp9v160frc6c4lw/COURSE.csv?dl=0\n",
        "# and upload it in the folder Files you have in the first column (click on the Folder icon)\n",
        "# Then fetch all records from COURSE table.\n",
        "#\n",
        "# Load example table with Pandas\n",
        "# Connect to local dabatase\n",
        "import sqlite3\n",
        "cnx = sqlite3.connect('mydb.sqlite')\n",
        "\n",
        "import pandas as pd\n",
        "df = pd.read_csv('COURSE.csv', sep=';')\n",
        "\n",
        "# Dump it to sqlite!\n",
        "df.to_sql(name='COURSE', if_exists='replace', index=False, con=cnx)\n",
        "\n",
        "# Bye bye\n",
        "cnx.close()\n",
        "\n",
        "\n"
      ]
    },
    {
      "cell_type": "code",
      "execution_count": 24,
      "metadata": {
        "id": "c1Rsn1xkSvwY",
        "colab": {
          "base_uri": "https://localhost:8080/",
          "height": 119
        },
        "outputId": "86ab3eee-ad1c-48eb-c2e6-5142c680be32"
      },
      "outputs": [
        {
          "output_type": "stream",
          "name": "stdout",
          "text": [
            " * sqlite:///mydb.sqlite\n",
            "Done.\n"
          ]
        },
        {
          "output_type": "execute_result",
          "data": {
            "text/plain": [
              "[(3, 'Algorithms'), (7, 'Databases')]"
            ],
            "text/html": [
              "<table>\n",
              "    <thead>\n",
              "        <tr>\n",
              "            <th>CourseID</th>\n",
              "            <th>Name</th>\n",
              "        </tr>\n",
              "    </thead>\n",
              "    <tbody>\n",
              "        <tr>\n",
              "            <td>3</td>\n",
              "            <td>Algorithms</td>\n",
              "        </tr>\n",
              "        <tr>\n",
              "            <td>7</td>\n",
              "            <td>Databases</td>\n",
              "        </tr>\n",
              "    </tbody>\n",
              "</table>"
            ]
          },
          "metadata": {},
          "execution_count": 24
        }
      ],
      "source": [
        "%%sql\n",
        "SELECT * From COURSE;"
      ]
    },
    {
      "cell_type": "markdown",
      "metadata": {
        "id": "ModZIkTDOP0u"
      },
      "source": [
        "## 1.6 Creating a table and inserting partial data"
      ]
    },
    {
      "cell_type": "code",
      "execution_count": 25,
      "metadata": {
        "id": "y2enJPxIxa_m",
        "colab": {
          "base_uri": "https://localhost:8080/"
        },
        "outputId": "5e7362e2-9ed4-45c6-b036-10d3f0dd1eaf"
      },
      "outputs": [
        {
          "output_type": "stream",
          "name": "stdout",
          "text": [
            " * sqlite:///mydb.sqlite\n",
            "Done.\n"
          ]
        },
        {
          "output_type": "execute_result",
          "data": {
            "text/plain": [
              "[]"
            ]
          },
          "metadata": {},
          "execution_count": 25
        }
      ],
      "source": [
        "# Example 5\n",
        "# In this example, we will create a EXAM table for a student management system.\n",
        "#\n",
        "%sql CREATE TABLE EXAM (StudentID, CourseID, Grade);\n",
        "\n"
      ]
    },
    {
      "cell_type": "code",
      "execution_count": 26,
      "metadata": {
        "id": "gzQWu2LKzbz_",
        "colab": {
          "base_uri": "https://localhost:8080/"
        },
        "outputId": "36c4b818-d0a7-43c3-892c-2100c6256866"
      },
      "outputs": [
        {
          "output_type": "stream",
          "name": "stdout",
          "text": [
            " * sqlite:///mydb.sqlite\n",
            "3 rows affected.\n"
          ]
        },
        {
          "output_type": "execute_result",
          "data": {
            "text/plain": [
              "[]"
            ]
          },
          "metadata": {},
          "execution_count": 26
        }
      ],
      "source": [
        "# Example 6\n",
        "# In this example, we will insert two tuples in the EXAM table for a student management system.\n",
        "#\n",
        "\n",
        "%%sql INSERT INTO EXAM (StudentID, CourseID, Grade)\n",
        "VALUES\n",
        "      (13, 3, 26),\n",
        "      (13,7,30),\n",
        "      (32,7,28);"
      ]
    },
    {
      "cell_type": "code",
      "execution_count": 28,
      "metadata": {
        "id": "St_t0cvH1Tw7",
        "colab": {
          "base_uri": "https://localhost:8080/",
          "height": 179
        },
        "outputId": "add9b66e-9b4c-442a-e3ff-eec056a1eb99"
      },
      "outputs": [
        {
          "output_type": "stream",
          "name": "stdout",
          "text": [
            " * sqlite:///mydb.sqlite\n",
            "1 rows affected.\n",
            "Done.\n"
          ]
        },
        {
          "output_type": "execute_result",
          "data": {
            "text/plain": [
              "[(13, 3, 26), (13, 7, 30), (32, 7, 28), (13, 7, '')]"
            ],
            "text/html": [
              "<table>\n",
              "    <thead>\n",
              "        <tr>\n",
              "            <th>StudentID</th>\n",
              "            <th>CourseID</th>\n",
              "            <th>Grade</th>\n",
              "        </tr>\n",
              "    </thead>\n",
              "    <tbody>\n",
              "        <tr>\n",
              "            <td>13</td>\n",
              "            <td>3</td>\n",
              "            <td>26</td>\n",
              "        </tr>\n",
              "        <tr>\n",
              "            <td>13</td>\n",
              "            <td>7</td>\n",
              "            <td>30</td>\n",
              "        </tr>\n",
              "        <tr>\n",
              "            <td>32</td>\n",
              "            <td>7</td>\n",
              "            <td>28</td>\n",
              "        </tr>\n",
              "        <tr>\n",
              "            <td>13</td>\n",
              "            <td>7</td>\n",
              "            <td></td>\n",
              "        </tr>\n",
              "    </tbody>\n",
              "</table>"
            ]
          },
          "metadata": {},
          "execution_count": 28
        }
      ],
      "source": [
        "# Example 7\n",
        "# In this example, we will insert a tuple in the EXAM table with CourseID 7 for StudentID 13.\n",
        "#\n",
        "%%sql INSERT INTO EXAM (StudentID, CourseID, Grade)\n",
        "VALUES\n",
        "      (13,7,'');\n",
        "SELECT * FROM EXAM;"
      ]
    },
    {
      "cell_type": "markdown",
      "metadata": {
        "id": "nR2MJyBtOavu"
      },
      "source": [
        "## 1.8 Joining tables"
      ]
    },
    {
      "cell_type": "code",
      "execution_count": 30,
      "metadata": {
        "id": "wTjQJR131rT6",
        "colab": {
          "base_uri": "https://localhost:8080/",
          "height": 119
        },
        "outputId": "8c8a4195-10e9-453e-93d3-705c9127f32f"
      },
      "outputs": [
        {
          "output_type": "stream",
          "name": "stdout",
          "text": [
            " * sqlite:///mydb.sqlite\n",
            "Done.\n"
          ]
        },
        {
          "output_type": "execute_result",
          "data": {
            "text/plain": [
              "[('Algorithms',), ('Databases',)]"
            ],
            "text/html": [
              "<table>\n",
              "    <thead>\n",
              "        <tr>\n",
              "            <th>Name</th>\n",
              "        </tr>\n",
              "    </thead>\n",
              "    <tbody>\n",
              "        <tr>\n",
              "            <td>Algorithms</td>\n",
              "        </tr>\n",
              "        <tr>\n",
              "            <td>Databases</td>\n",
              "        </tr>\n",
              "    </tbody>\n",
              "</table>"
            ]
          },
          "metadata": {},
          "execution_count": 30
        }
      ],
      "source": [
        "# Example 8\n",
        "# In this example, we will select the names of the courses in which Students are registered (join of tables)\n",
        "#\n",
        "\n",
        "%%sql\n",
        "SELECT NAME\n",
        "FROM COURSE JOIN EXAM\n",
        "GROUP BY NAME\n",
        "\n"
      ]
    },
    {
      "cell_type": "code",
      "execution_count": 31,
      "metadata": {
        "id": "uqWr--pe5n-a",
        "colab": {
          "base_uri": "https://localhost:8080/",
          "height": 179
        },
        "outputId": "e4c206e2-b9a5-47ab-c17b-f0defed37aaf"
      },
      "outputs": [
        {
          "output_type": "stream",
          "name": "stdout",
          "text": [
            " * sqlite:///mydb.sqlite\n",
            "Done.\n",
            "Done.\n"
          ]
        },
        {
          "output_type": "execute_result",
          "data": {
            "text/plain": [
              "[(13, 3, 26, None), (13, 7, 30, None), (32, 7, 28, None), (13, 7, '', None)]"
            ],
            "text/html": [
              "<table>\n",
              "    <thead>\n",
              "        <tr>\n",
              "            <th>StudentID</th>\n",
              "            <th>CourseID</th>\n",
              "            <th>Grade</th>\n",
              "            <th>Laude</th>\n",
              "        </tr>\n",
              "    </thead>\n",
              "    <tbody>\n",
              "        <tr>\n",
              "            <td>13</td>\n",
              "            <td>3</td>\n",
              "            <td>26</td>\n",
              "            <td>None</td>\n",
              "        </tr>\n",
              "        <tr>\n",
              "            <td>13</td>\n",
              "            <td>7</td>\n",
              "            <td>30</td>\n",
              "            <td>None</td>\n",
              "        </tr>\n",
              "        <tr>\n",
              "            <td>32</td>\n",
              "            <td>7</td>\n",
              "            <td>28</td>\n",
              "            <td>None</td>\n",
              "        </tr>\n",
              "        <tr>\n",
              "            <td>13</td>\n",
              "            <td>7</td>\n",
              "            <td></td>\n",
              "            <td>None</td>\n",
              "        </tr>\n",
              "    </tbody>\n",
              "</table>"
            ]
          },
          "metadata": {},
          "execution_count": 31
        }
      ],
      "source": [
        "# Example 9\n",
        "# In this example, we will modify the EXAM table to be able to insert Cum Laude grades, adding a new column Laude\n",
        "#\n",
        "%%sql ALTER TABLE EXAM\n",
        "ADD Laude;\n",
        "SELECT * From EXAM;\n"
      ]
    },
    {
      "cell_type": "code",
      "execution_count": 32,
      "metadata": {
        "id": "0FmFgfaTbZO6",
        "colab": {
          "base_uri": "https://localhost:8080/",
          "height": 179
        },
        "outputId": "0222fdfa-1476-46f5-8c37-78823029ec67"
      },
      "outputs": [
        {
          "output_type": "stream",
          "name": "stdout",
          "text": [
            " * sqlite:///mydb.sqlite\n",
            "1 rows affected.\n",
            "Done.\n"
          ]
        },
        {
          "output_type": "execute_result",
          "data": {
            "text/plain": [
              "[(13, 3, 26, None), (13, 7, 30, None), (32, 7, 28, 'L'), (13, 7, '', None)]"
            ],
            "text/html": [
              "<table>\n",
              "    <thead>\n",
              "        <tr>\n",
              "            <th>StudentID</th>\n",
              "            <th>CourseID</th>\n",
              "            <th>Grade</th>\n",
              "            <th>Laude</th>\n",
              "        </tr>\n",
              "    </thead>\n",
              "    <tbody>\n",
              "        <tr>\n",
              "            <td>13</td>\n",
              "            <td>3</td>\n",
              "            <td>26</td>\n",
              "            <td>None</td>\n",
              "        </tr>\n",
              "        <tr>\n",
              "            <td>13</td>\n",
              "            <td>7</td>\n",
              "            <td>30</td>\n",
              "            <td>None</td>\n",
              "        </tr>\n",
              "        <tr>\n",
              "            <td>32</td>\n",
              "            <td>7</td>\n",
              "            <td>28</td>\n",
              "            <td>L</td>\n",
              "        </tr>\n",
              "        <tr>\n",
              "            <td>13</td>\n",
              "            <td>7</td>\n",
              "            <td></td>\n",
              "            <td>None</td>\n",
              "        </tr>\n",
              "    </tbody>\n",
              "</table>"
            ]
          },
          "metadata": {},
          "execution_count": 32
        }
      ],
      "source": [
        "# Example 10\n",
        "# In this example, we will update the grade for student 32 in course 7 in the EXAM table\n",
        "# to indicate a Cum Laude (L)\n",
        "#\n",
        "%%sql\n",
        "UPDATE EXAM\n",
        "SET Laude=\"L\"\n",
        "WHERE StudentID = 32 AND CourseID= 7;\n",
        "SELECT * FROM EXAM;"
      ]
    },
    {
      "cell_type": "markdown",
      "metadata": {
        "id": "AG92ITgJ6deV"
      },
      "source": [
        "#Views\n",
        "\n"
      ]
    },
    {
      "cell_type": "code",
      "execution_count": 38,
      "metadata": {
        "id": "dAaYNO9y6oCA",
        "colab": {
          "base_uri": "https://localhost:8080/",
          "height": 175
        },
        "outputId": "ea8cd3a3-f7c2-48c0-96ca-830d350f2032"
      },
      "outputs": [
        {
          "output_type": "stream",
          "name": "stdout",
          "text": [
            " * sqlite:///mydb.sqlite\n",
            "Done.\n",
            "Done.\n",
            "Done.\n"
          ]
        },
        {
          "output_type": "execute_result",
          "data": {
            "text/plain": [
              "[(3, 'Algorithms'), (7, 'Databases'), (7, 'Databases')]"
            ],
            "text/html": [
              "<table>\n",
              "    <thead>\n",
              "        <tr>\n",
              "            <th>CourseID</th>\n",
              "            <th>Name</th>\n",
              "        </tr>\n",
              "    </thead>\n",
              "    <tbody>\n",
              "        <tr>\n",
              "            <td>3</td>\n",
              "            <td>Algorithms</td>\n",
              "        </tr>\n",
              "        <tr>\n",
              "            <td>7</td>\n",
              "            <td>Databases</td>\n",
              "        </tr>\n",
              "        <tr>\n",
              "            <td>7</td>\n",
              "            <td>Databases</td>\n",
              "        </tr>\n",
              "    </tbody>\n",
              "</table>"
            ]
          },
          "metadata": {},
          "execution_count": 38
        }
      ],
      "source": [
        "# Example 11\n",
        "#Create a view for user 13 (Batini)\n",
        "#DROP VIEW needed in case you rerun this cell\n",
        "#using\n",
        "#CREATE VIEW V13 (CourseID, CourseName) AS then a SQL query\n",
        "\n",
        "%%sql\n",
        "DROP VIEW if exists V13;\n",
        "\n",
        "CREATE VIEW V13 (CourseID, Name) AS\n",
        "SELECT Exam.CourseID, COURSE.Name\n",
        "FROM EXAM JOIN COURSE USING (CourseID)\n",
        "WHERE StudentID=13;\n",
        "\n",
        "SELECT * FROM V13;\n"
      ]
    },
    {
      "cell_type": "markdown",
      "metadata": {
        "id": "zU-W6It_PLyY"
      },
      "source": [
        "## 1.9 About the structure of a table"
      ]
    },
    {
      "cell_type": "code",
      "execution_count": 39,
      "metadata": {
        "id": "Y3Z2emGQPZ1c",
        "colab": {
          "base_uri": "https://localhost:8080/",
          "height": 161
        },
        "outputId": "48dcc59d-a89e-4789-c51b-77e4b80eb875"
      },
      "outputs": [
        {
          "output_type": "stream",
          "name": "stdout",
          "text": [
            " * sqlite:///mydb.sqlite\n",
            "Done.\n"
          ]
        },
        {
          "output_type": "execute_result",
          "data": {
            "text/plain": [
              "[(0, 'StudentID', '', 0, None, 0),\n",
              " (1, 'CourseID', '', 0, None, 0),\n",
              " (2, 'Grade', '', 0, None, 0),\n",
              " (3, 'Laude', '', 0, None, 0)]"
            ],
            "text/html": [
              "<table>\n",
              "    <thead>\n",
              "        <tr>\n",
              "            <th>cid</th>\n",
              "            <th>name</th>\n",
              "            <th>type</th>\n",
              "            <th>notnull</th>\n",
              "            <th>dflt_value</th>\n",
              "            <th>pk</th>\n",
              "        </tr>\n",
              "    </thead>\n",
              "    <tbody>\n",
              "        <tr>\n",
              "            <td>0</td>\n",
              "            <td>StudentID</td>\n",
              "            <td></td>\n",
              "            <td>0</td>\n",
              "            <td>None</td>\n",
              "            <td>0</td>\n",
              "        </tr>\n",
              "        <tr>\n",
              "            <td>1</td>\n",
              "            <td>CourseID</td>\n",
              "            <td></td>\n",
              "            <td>0</td>\n",
              "            <td>None</td>\n",
              "            <td>0</td>\n",
              "        </tr>\n",
              "        <tr>\n",
              "            <td>2</td>\n",
              "            <td>Grade</td>\n",
              "            <td></td>\n",
              "            <td>0</td>\n",
              "            <td>None</td>\n",
              "            <td>0</td>\n",
              "        </tr>\n",
              "        <tr>\n",
              "            <td>3</td>\n",
              "            <td>Laude</td>\n",
              "            <td></td>\n",
              "            <td>0</td>\n",
              "            <td>None</td>\n",
              "            <td>0</td>\n",
              "        </tr>\n",
              "    </tbody>\n",
              "</table>"
            ]
          },
          "metadata": {},
          "execution_count": 39
        }
      ],
      "source": [
        "# Example 12\n",
        "# To show the structure of a table\n",
        "# We do the following as shown below.\n",
        "#\n",
        "%%sql\n",
        "PRAGMA  table_info(EXAM)"
      ]
    },
    {
      "cell_type": "markdown",
      "source": [
        "# Constraints"
      ],
      "metadata": {
        "id": "Ac8aB-gTP5Dq"
      }
    },
    {
      "cell_type": "code",
      "execution_count": null,
      "metadata": {
        "id": "_ut68z0BgfW9"
      },
      "outputs": [],
      "source": [
        "# Example 13\n",
        "# To specify domains and default values for the fields in a new table TeamMembers,\n",
        "# We do the following as shown below.\n",
        "#\n",
        "%%sql\n",
        "CREATE TABLE IF NOT EXISTS TeamMembers (\n",
        "    id INTEGER PRIMARY KEY,\n",
        "    name TEXT,\n",
        "    age INTEGER DEFAULT 'Unknown',\n",
        "    height REAL);\n",
        "\n",
        "PRAGMA  table_info(TeamMembers)"
      ]
    },
    {
      "cell_type": "code",
      "execution_count": null,
      "metadata": {
        "id": "cvdHcAELX39A"
      },
      "outputs": [],
      "source": [
        "# Example 14\n",
        "# To specify domains and default values for the fields in a new table TeamMembers,\n",
        "# We do the following as shown below.\n",
        "#\n",
        "%%sql\n",
        "CREATE TABLE Persons (\n",
        "PersonID int,\n",
        "LastName varchar(255),\n",
        "FirstName varchar(255),\n",
        "Address varchar(255),\n",
        "City varchar(255)\n",
        ");\n",
        "\n",
        "PRAGMA  table_info(Persons)"
      ]
    },
    {
      "cell_type": "code",
      "source": [
        "#with PRAGMA analyse the COURSE and EXAM tables\n",
        "\n"
      ],
      "metadata": {
        "id": "eptUKbQfmvoD"
      },
      "execution_count": null,
      "outputs": []
    },
    {
      "cell_type": "markdown",
      "metadata": {
        "id": "IjWfAqszO5Zo"
      },
      "source": [
        "## 1.10 SQL result set to a local variable and then to CSV"
      ]
    },
    {
      "cell_type": "code",
      "execution_count": null,
      "metadata": {
        "id": "vApCEdDQO33m"
      },
      "outputs": [],
      "source": [
        "# Example 15\n",
        "# To export the result of a query to a local variable result_set\n",
        "\n",
        "%%sql\n",
        "result_set << SELECT * FROM EXAM;"
      ]
    },
    {
      "cell_type": "code",
      "execution_count": null,
      "metadata": {
        "id": "bKx6ca7-QFrz"
      },
      "outputs": [],
      "source": [
        "# Example 16\n",
        "# And then to a CSV file (in local folders Files)\n",
        "\n",
        "df = result_set.DataFrame()\n",
        "df.to_csv('EXAM.csv', index=False, sep=';')\n",
        "\n",
        "#alternative\n",
        "#result_set.DataFrame().to_csv('EXAM.csv', index=False, sep=';')\n",
        "\n",
        "\n"
      ]
    },
    {
      "cell_type": "code",
      "source": [
        "#see the file  !head <filename> shows the first 10 lines\n",
        "\n",
        "\n",
        "!head EXAM.csv"
      ],
      "metadata": {
        "id": "vjyyfH7xVw_S"
      },
      "execution_count": null,
      "outputs": []
    },
    {
      "cell_type": "code",
      "source": [
        "#to see the whole file (in this case is the same)\n",
        "\n",
        "!cat EXAM.csv"
      ],
      "metadata": {
        "id": "qT9GcyBPWLps"
      },
      "execution_count": null,
      "outputs": []
    },
    {
      "cell_type": "code",
      "source": [
        "#export also STUDENT\n",
        "\n",
        "%%sql\n",
        "result_set << SELECT * FROM STUDENT;\n",
        "\n",
        "\n"
      ],
      "metadata": {
        "id": "oCHlG5jlX5Hw"
      },
      "execution_count": null,
      "outputs": []
    },
    {
      "cell_type": "code",
      "source": [
        "df = result_set.DataFrame()\n",
        "df.to_csv('STUDENT.csv', index=False, sep=';')"
      ],
      "metadata": {
        "id": "uU31WGZIY1J_"
      },
      "execution_count": null,
      "outputs": []
    },
    {
      "cell_type": "code",
      "source": [
        "#an alternative\n",
        "#SQL and Python in the same cell\n",
        "\n",
        "%sql result_set << SELECT * FROM STUDENT;\n",
        "df = result_set.DataFrame()\n",
        "df.to_csv('STUDENT2.csv', index=False, sep=';')"
      ],
      "metadata": {
        "id": "EaQ6BP8fjyN2"
      },
      "execution_count": null,
      "outputs": []
    },
    {
      "cell_type": "markdown",
      "metadata": {
        "id": "Xr_iw9O1gynX"
      },
      "source": [
        "## <font color=\"green\"> 1.11 Challenges</font>"
      ]
    },
    {
      "cell_type": "code",
      "execution_count": null,
      "metadata": {
        "id": "H0X577pGgxuY"
      },
      "outputs": [],
      "source": [
        "# Challenge 1\n",
        "# Let's create 3 Tables Customer, Product, Sale\n",
        "# Each has a key, attributes for describing them (e.g. Name, age for customers, brand for Products)\n",
        "# Sales contains tuples indicating sales of products to customers, with Quantity and Date\n",
        "# Insert 2 customers and 3 products\n",
        "# Insert a tuple into Sale\n",
        "# Display the age of Customers and Date for each sale\n",
        "# Tip1: you can also create csv files and upload them as shown in Example 4\n",
        "# Tip2: if you want to delete a table and its contents to restart you can use\n",
        "# DROP TABLE TableName;\n",
        "\n",
        "%%sql\n",
        "CREATE TABLE IF NOT EXISTS ....(\n",
        "\n",
        "\n"
      ]
    }
  ],
  "metadata": {
    "colab": {
      "collapsed_sections": [
        "_D8JbTh02GDA",
        "D6BU_C0d3dMo"
      ],
      "provenance": [],
      "include_colab_link": true
    },
    "gpuClass": "standard",
    "kernelspec": {
      "display_name": "Python 3",
      "name": "python3"
    }
  },
  "nbformat": 4,
  "nbformat_minor": 0
}