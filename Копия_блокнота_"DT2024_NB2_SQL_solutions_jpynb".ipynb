{
  "cells": [
    {
      "cell_type": "markdown",
      "metadata": {
        "id": "view-in-github",
        "colab_type": "text"
      },
      "source": [
        "<a href=\"https://colab.research.google.com/github/aiakobson/Digital_technologies/blob/main/%D0%9A%D0%BE%D0%BF%D0%B8%D1%8F_%D0%B1%D0%BB%D0%BE%D0%BA%D0%BD%D0%BE%D1%82%D0%B0_%22DT2024_NB2_SQL_solutions_jpynb%22.ipynb\" target=\"_parent\"><img src=\"https://colab.research.google.com/assets/colab-badge.svg\" alt=\"Open In Colab\"/></a>"
      ]
    },
    {
      "cell_type": "markdown",
      "metadata": {
        "id": "tRHyN7N81xCS"
      },
      "source": [
        "<font color=\"green\">*To work with this notebook, we will need to save our own copy of it. We can do this by clicking File > Save a Copy in Drive. We will then be able to make edits to our own copy of this notebook. Source: Some Items from the Moringa Data Science Course.  *</font>\n",
        "\n"
      ]
    },
    {
      "cell_type": "markdown",
      "metadata": {
        "id": "_brgSPnC2ClB"
      },
      "source": [
        "# SQL Programming - Getting Started with Databases"
      ]
    },
    {
      "cell_type": "markdown",
      "metadata": {
        "id": "_D8JbTh02GDA"
      },
      "source": [
        "## 1.1 Overview"
      ]
    },
    {
      "cell_type": "markdown",
      "metadata": {
        "id": "ueOY-njw3bzC"
      },
      "source": [
        "Structured Query Language (SQL) is the language that is used to store, manipulate and retrieve data from many databases. It is the standard language for many relational database management systems which are a type of databases used by organisations across the world. These type of relational database management systems are used to store data in tables and examples of such include SQLite, MySQL, Postgres, Oracle etc.\n",
        "\n",
        "During DT course, we will learn about SQL since we may be required to retrieve data from databases through the use of SQL.\n",
        "\n",
        "In this notebook, we will use SQL to learn how tables in databases are created. More specifically, we will learn how the structure of tables is defined which is critical in determining the quality of data. The better the structure, the easier it becomes to clean data."
      ]
    },
    {
      "cell_type": "markdown",
      "metadata": {
        "id": "D6BU_C0d3dMo"
      },
      "source": [
        "## 1.2 Connecting to our Database"
      ]
    },
    {
      "cell_type": "markdown",
      "metadata": {
        "id": "7JK1sBqVKNUm"
      },
      "source": []
    },
    {
      "cell_type": "code",
      "execution_count": null,
      "metadata": {
        "colab": {
          "base_uri": "https://localhost:8080/"
        },
        "id": "PDk968tq3v43",
        "outputId": "45c50143-62fc-4f93-ff8d-ba065e5f2eec"
      },
      "outputs": [
        {
          "output_type": "stream",
          "name": "stdout",
          "text": [
            "Collecting sqlalchemy==2.0\n",
            "  Downloading SQLAlchemy-2.0.0-cp310-cp310-manylinux_2_17_x86_64.manylinux2014_x86_64.whl (2.7 MB)\n",
            "\u001b[2K     \u001b[90m━━━━━━━━━━━━━━━━━━━━━━━━━━━━━━━━━━━━━━━━\u001b[0m \u001b[32m2.7/2.7 MB\u001b[0m \u001b[31m9.9 MB/s\u001b[0m eta \u001b[36m0:00:00\u001b[0m\n",
            "\u001b[?25hRequirement already satisfied: typing-extensions>=4.2.0 in /usr/local/lib/python3.10/dist-packages (from sqlalchemy==2.0) (4.9.0)\n",
            "Requirement already satisfied: greenlet!=0.4.17 in /usr/local/lib/python3.10/dist-packages (from sqlalchemy==2.0) (3.0.3)\n",
            "Installing collected packages: sqlalchemy\n",
            "  Attempting uninstall: sqlalchemy\n",
            "    Found existing installation: SQLAlchemy 2.0.27\n",
            "    Uninstalling SQLAlchemy-2.0.27:\n",
            "      Successfully uninstalled SQLAlchemy-2.0.27\n",
            "Successfully installed sqlalchemy-2.0.0\n"
          ]
        }
      ],
      "source": [
        "!pip install sqlalchemy==2.0\n",
        "#!pip install sqlalchemy==1.4.4\n",
        "\n",
        "# We will first load an sql extension into our environment\n",
        "# This extension will allow us to work with sql on Colaboratory\n",
        "#\n",
        "%load_ext sql\n",
        "\n",
        "# We will then connect to our in memory sqlite database\n",
        "# NB: This database will cease to exist as soon as the database connection is closed.\n",
        "# We will learn more about how databases are created later in prep.\n",
        "#\n",
        "%sql sqlite:///mydb.sqlite"
      ]
    },
    {
      "cell_type": "markdown",
      "metadata": {
        "id": "TjMtC5JN7ZoI"
      },
      "source": [
        "## 1.3 Creating a Table"
      ]
    },
    {
      "cell_type": "code",
      "execution_count": null,
      "metadata": {
        "colab": {
          "base_uri": "https://localhost:8080/",
          "height": 94
        },
        "id": "ee0bJxIKPQvK",
        "outputId": "88b2afe3-4bcc-4cf9-8973-a3b9e771d3ce"
      },
      "outputs": [
        {
          "output_type": "stream",
          "name": "stdout",
          "text": [
            " * sqlite:///mydb.sqlite\n",
            "Done.\n",
            "Done.\n"
          ]
        },
        {
          "output_type": "execute_result",
          "data": {
            "text/plain": [
              "[]"
            ],
            "text/html": [
              "<table>\n",
              "    <thead>\n",
              "        <tr>\n",
              "            <th>StudentID</th>\n",
              "            <th>LastName</th>\n",
              "        </tr>\n",
              "    </thead>\n",
              "    <tbody>\n",
              "    </tbody>\n",
              "</table>"
            ]
          },
          "metadata": {},
          "execution_count": 2
        }
      ],
      "source": [
        "# Example 1\n",
        "# We will now define and create a table STUDENT in our database (if it doesn't exist).\n",
        "# This table will have fields: StudentID, LastName as shown below.\n",
        "# We will then fetch all records from the table.\n",
        "#\n",
        "\n",
        "%%sql\n",
        "CREATE TABLE if not exists STUDENT (\n",
        "    StudentID PRIMARY KEY,\n",
        "    LastName\n",
        ");\n",
        "SELECT * From STUDENT;"
      ]
    },
    {
      "cell_type": "markdown",
      "metadata": {
        "id": "nxFVrGvRNuZm"
      },
      "source": [
        "## 1.4 Inserting values"
      ]
    },
    {
      "cell_type": "code",
      "execution_count": null,
      "metadata": {
        "colab": {
          "base_uri": "https://localhost:8080/",
          "height": 115
        },
        "id": "uJ7Zo4RWtt9Q",
        "outputId": "554802fe-0a9e-48ee-d28c-1f082b327781"
      },
      "outputs": [
        {
          "output_type": "stream",
          "name": "stdout",
          "text": [
            " * sqlite:///mydb.sqlite\n",
            "1 rows affected.\n",
            "Done.\n"
          ]
        },
        {
          "output_type": "execute_result",
          "data": {
            "text/plain": [
              "[(21, 'Wang')]"
            ],
            "text/html": [
              "<table>\n",
              "    <thead>\n",
              "        <tr>\n",
              "            <th>StudentID</th>\n",
              "            <th>LastName</th>\n",
              "        </tr>\n",
              "    </thead>\n",
              "    <tbody>\n",
              "        <tr>\n",
              "            <td>21</td>\n",
              "            <td>Wang</td>\n",
              "        </tr>\n",
              "    </tbody>\n",
              "</table>"
            ]
          },
          "metadata": {},
          "execution_count": 3
        }
      ],
      "source": [
        "# Example 2\n",
        "# In this example, we will insert students tuples in STUDENTS table.\n",
        "# Then we will fetch all the data from the table\n",
        "%%sql\n",
        "INSERT INTO STUDENT\n",
        "VALUES (21,'Wang');\n",
        "\n",
        "SELECT * From STUDENT;"
      ]
    },
    {
      "cell_type": "code",
      "execution_count": null,
      "metadata": {
        "colab": {
          "base_uri": "https://localhost:8080/",
          "height": 158
        },
        "id": "TUE5ZjSKwBqZ",
        "outputId": "0ec4bf7d-73c8-4bcf-c87e-88af6bb63395"
      },
      "outputs": [
        {
          "output_type": "stream",
          "name": "stdout",
          "text": [
            " * sqlite:///mydb.sqlite\n",
            "2 rows affected.\n",
            "Done.\n"
          ]
        },
        {
          "output_type": "execute_result",
          "data": {
            "text/plain": [
              "[(21, 'Wang'), (13, 'Batini'), (32, 'Xu')]"
            ],
            "text/html": [
              "<table>\n",
              "    <thead>\n",
              "        <tr>\n",
              "            <th>StudentID</th>\n",
              "            <th>LastName</th>\n",
              "        </tr>\n",
              "    </thead>\n",
              "    <tbody>\n",
              "        <tr>\n",
              "            <td>21</td>\n",
              "            <td>Wang</td>\n",
              "        </tr>\n",
              "        <tr>\n",
              "            <td>13</td>\n",
              "            <td>Batini</td>\n",
              "        </tr>\n",
              "        <tr>\n",
              "            <td>32</td>\n",
              "            <td>Xu</td>\n",
              "        </tr>\n",
              "    </tbody>\n",
              "</table>"
            ]
          },
          "metadata": {},
          "execution_count": 4
        }
      ],
      "source": [
        "# Example 3\n",
        "# In this example, we will insert students tuples in STUDENTS table.\n",
        "# Then we will fetch all the data from the table\n",
        "%%sql\n",
        "INSERT INTO STUDENT\n",
        "VALUES\n",
        "  (13,'Batini'),\n",
        "  (32, 'Xu');\n",
        "\n",
        "SELECT * From STUDENT;"
      ]
    },
    {
      "cell_type": "markdown",
      "metadata": {
        "id": "sEEbwMn-OD4a"
      },
      "source": [
        "## 1.5 Inserting values from a local file"
      ]
    },
    {
      "cell_type": "code",
      "execution_count": null,
      "metadata": {
        "id": "og8GN9A3JC_-"
      },
      "outputs": [],
      "source": [
        "# Example 4\n",
        "# In this example, we will create a COURSE table for a student management system.\n",
        "# This will be imported from a CSV file on a local csv file in the Files directory\n",
        "# First, grab the file from https://www.dropbox.com/s/zp9v160frc6c4lw/COURSE.csv?dl=0\n",
        "# and upload it in the folder Files you have in the first column (click on the Folder icon)\n",
        "# Then fetch all records from COURSE table.\n",
        "#\n",
        "# Load example table with Pandas\n",
        "# Connect to local dabatase\n",
        "import sqlite3\n",
        "cnx = sqlite3.connect('mydb.sqlite')\n",
        "\n",
        "import pandas as pd\n",
        "df = pd.read_csv('COURSE.csv', sep=';')\n",
        "\n",
        "# Dump it to sqlite!\n",
        "df.to_sql(name='COURSE', if_exists='replace', index=False, con=cnx)\n",
        "\n",
        "# Bye bye\n",
        "cnx.close()\n",
        "\n",
        "\n"
      ]
    },
    {
      "cell_type": "code",
      "execution_count": null,
      "metadata": {
        "colab": {
          "base_uri": "https://localhost:8080/",
          "height": 119
        },
        "id": "c1Rsn1xkSvwY",
        "outputId": "788b377f-2d04-4155-d5ae-21afa81ad1ce"
      },
      "outputs": [
        {
          "output_type": "stream",
          "name": "stdout",
          "text": [
            " * sqlite:///mydb.sqlite\n",
            "Done.\n"
          ]
        },
        {
          "output_type": "execute_result",
          "data": {
            "text/plain": [
              "[(3, 'Algorithms'), (7, 'Databases')]"
            ],
            "text/html": [
              "<table>\n",
              "    <thead>\n",
              "        <tr>\n",
              "            <th>CourseID</th>\n",
              "            <th>Name</th>\n",
              "        </tr>\n",
              "    </thead>\n",
              "    <tbody>\n",
              "        <tr>\n",
              "            <td>3</td>\n",
              "            <td>Algorithms</td>\n",
              "        </tr>\n",
              "        <tr>\n",
              "            <td>7</td>\n",
              "            <td>Databases</td>\n",
              "        </tr>\n",
              "    </tbody>\n",
              "</table>"
            ]
          },
          "metadata": {},
          "execution_count": 6
        }
      ],
      "source": [
        "%%sql\n",
        "SELECT * From COURSE;"
      ]
    },
    {
      "cell_type": "markdown",
      "metadata": {
        "id": "ModZIkTDOP0u"
      },
      "source": [
        "## 1.6 Creating a table and inserting partial data"
      ]
    },
    {
      "cell_type": "code",
      "execution_count": null,
      "metadata": {
        "colab": {
          "base_uri": "https://localhost:8080/",
          "height": 94
        },
        "id": "y2enJPxIxa_m",
        "outputId": "eaeec89b-fce2-4e11-da2b-daba072ccb2e"
      },
      "outputs": [
        {
          "output_type": "stream",
          "name": "stdout",
          "text": [
            " * sqlite:///mydb.sqlite\n",
            "Done.\n",
            "Done.\n"
          ]
        },
        {
          "output_type": "execute_result",
          "data": {
            "text/plain": [
              "[]"
            ],
            "text/html": [
              "<table>\n",
              "    <thead>\n",
              "        <tr>\n",
              "            <th>StudentID</th>\n",
              "            <th>CourseID</th>\n",
              "            <th>Grade</th>\n",
              "        </tr>\n",
              "    </thead>\n",
              "    <tbody>\n",
              "    </tbody>\n",
              "</table>"
            ]
          },
          "metadata": {},
          "execution_count": 7
        }
      ],
      "source": [
        "# Example 5\n",
        "# In this example, we will create a EXAM table for a student management system.\n",
        "#\n",
        "%%sql\n",
        "CREATE TABLE EXAM(\n",
        "   StudentID,\n",
        "   CourseID,\n",
        "   Grade\n",
        ");\n",
        "\n",
        "SELECT * From EXAM;\n"
      ]
    },
    {
      "cell_type": "code",
      "execution_count": null,
      "metadata": {
        "colab": {
          "base_uri": "https://localhost:8080/"
        },
        "id": "gzQWu2LKzbz_",
        "outputId": "a26dcaae-50e6-4516-b45f-4e94d22920d3"
      },
      "outputs": [
        {
          "output_type": "stream",
          "name": "stdout",
          "text": [
            " * sqlite:///mydb.sqlite\n",
            "2 rows affected.\n"
          ]
        },
        {
          "output_type": "execute_result",
          "data": {
            "text/plain": [
              "[]"
            ]
          },
          "metadata": {},
          "execution_count": 9
        }
      ],
      "source": [
        "# Example 6\n",
        "# In this example, we will insert two tuples in the EXAM table for a student management system.\n",
        "#\n",
        "%%sql\n",
        "INSERT INTO EXAM\n",
        "VALUES\n",
        "    (13,3,26),\n",
        "    (32,7,30);"
      ]
    },
    {
      "cell_type": "code",
      "execution_count": null,
      "metadata": {
        "colab": {
          "base_uri": "https://localhost:8080/",
          "height": 158
        },
        "id": "St_t0cvH1Tw7",
        "outputId": "5eff7b92-cfd0-41b4-bada-6bd5d8353532"
      },
      "outputs": [
        {
          "output_type": "stream",
          "name": "stdout",
          "text": [
            " * sqlite:///mydb.sqlite\n",
            "1 rows affected.\n",
            "Done.\n"
          ]
        },
        {
          "output_type": "execute_result",
          "data": {
            "text/plain": [
              "[(13, 3, 26), (32, 7, 30), (13, 7, None)]"
            ],
            "text/html": [
              "<table>\n",
              "    <thead>\n",
              "        <tr>\n",
              "            <th>StudentID</th>\n",
              "            <th>CourseID</th>\n",
              "            <th>Grade</th>\n",
              "        </tr>\n",
              "    </thead>\n",
              "    <tbody>\n",
              "        <tr>\n",
              "            <td>13</td>\n",
              "            <td>3</td>\n",
              "            <td>26</td>\n",
              "        </tr>\n",
              "        <tr>\n",
              "            <td>32</td>\n",
              "            <td>7</td>\n",
              "            <td>30</td>\n",
              "        </tr>\n",
              "        <tr>\n",
              "            <td>13</td>\n",
              "            <td>7</td>\n",
              "            <td>None</td>\n",
              "        </tr>\n",
              "    </tbody>\n",
              "</table>"
            ]
          },
          "metadata": {},
          "execution_count": 12
        }
      ],
      "source": [
        "# Example 7\n",
        "# In this example, we will insert a tuple in the EXAM table with CourseID 7 for StudentID 13.\n",
        "#\n",
        "%%sql\n",
        "INSERT INTO EXAM (StudentID,CourseID)\n",
        "VALUES\n",
        "  (13,7);\n",
        "SELECT * FROM EXAM;\n"
      ]
    },
    {
      "cell_type": "markdown",
      "metadata": {
        "id": "nR2MJyBtOavu"
      },
      "source": [
        "## 1.8 Joining tables"
      ]
    },
    {
      "cell_type": "code",
      "execution_count": null,
      "metadata": {
        "colab": {
          "base_uri": "https://localhost:8080/",
          "height": 140
        },
        "id": "wTjQJR131rT6",
        "outputId": "d3c8d0a2-a24e-498b-bb3e-5c2760f4c425"
      },
      "outputs": [
        {
          "output_type": "stream",
          "name": "stdout",
          "text": [
            " * sqlite:///mydb.sqlite\n",
            "Done.\n"
          ]
        },
        {
          "output_type": "execute_result",
          "data": {
            "text/plain": [
              "[('Batini', 'Algorithms'), ('Xu', 'Databases'), ('Batini', 'Databases')]"
            ],
            "text/html": [
              "<table>\n",
              "    <thead>\n",
              "        <tr>\n",
              "            <th>LastName</th>\n",
              "            <th>Name</th>\n",
              "        </tr>\n",
              "    </thead>\n",
              "    <tbody>\n",
              "        <tr>\n",
              "            <td>Batini</td>\n",
              "            <td>Algorithms</td>\n",
              "        </tr>\n",
              "        <tr>\n",
              "            <td>Xu</td>\n",
              "            <td>Databases</td>\n",
              "        </tr>\n",
              "        <tr>\n",
              "            <td>Batini</td>\n",
              "            <td>Databases</td>\n",
              "        </tr>\n",
              "    </tbody>\n",
              "</table>"
            ]
          },
          "metadata": {},
          "execution_count": 13
        }
      ],
      "source": [
        "# Example 8\n",
        "# In this example, we will select the names of the courses in which Students are registered (join of tables)\n",
        "#\n",
        "%%sql\n",
        "SELECT LastName, Name\n",
        "FROM STUDENT, EXAM, COURSE\n",
        "WHERE STUDENT.StudentID = EXAM.StudentID AND\n",
        "EXAM.CourseID = COURSE.CourseID;\n"
      ]
    },
    {
      "cell_type": "code",
      "execution_count": null,
      "metadata": {
        "colab": {
          "base_uri": "https://localhost:8080/",
          "height": 158
        },
        "id": "uqWr--pe5n-a",
        "outputId": "8d6275c0-27f4-4753-e474-92dd3eb5d531"
      },
      "outputs": [
        {
          "output_type": "stream",
          "name": "stdout",
          "text": [
            " * sqlite:///mydb.sqlite\n",
            "Done.\n",
            "Done.\n"
          ]
        },
        {
          "output_type": "execute_result",
          "data": {
            "text/plain": [
              "[(13, 3, 26, None), (32, 7, 30, None), (13, 7, None, None)]"
            ],
            "text/html": [
              "<table>\n",
              "    <thead>\n",
              "        <tr>\n",
              "            <th>StudentID</th>\n",
              "            <th>CourseID</th>\n",
              "            <th>Grade</th>\n",
              "            <th>Laude</th>\n",
              "        </tr>\n",
              "    </thead>\n",
              "    <tbody>\n",
              "        <tr>\n",
              "            <td>13</td>\n",
              "            <td>3</td>\n",
              "            <td>26</td>\n",
              "            <td>None</td>\n",
              "        </tr>\n",
              "        <tr>\n",
              "            <td>32</td>\n",
              "            <td>7</td>\n",
              "            <td>30</td>\n",
              "            <td>None</td>\n",
              "        </tr>\n",
              "        <tr>\n",
              "            <td>13</td>\n",
              "            <td>7</td>\n",
              "            <td>None</td>\n",
              "            <td>None</td>\n",
              "        </tr>\n",
              "    </tbody>\n",
              "</table>"
            ]
          },
          "metadata": {},
          "execution_count": 14
        }
      ],
      "source": [
        "# Example 9\n",
        "# In this example, we will modify the EXAM table to be able to insert Cum Laude grades, adding a new column Laude\n",
        "#\n",
        "\n",
        "%%sql\n",
        "ALTER TABLE EXAM ADD Laude;\n",
        "SELECT * FROM EXAM;"
      ]
    },
    {
      "cell_type": "code",
      "execution_count": null,
      "metadata": {
        "colab": {
          "base_uri": "https://localhost:8080/",
          "height": 158
        },
        "id": "0FmFgfaTbZO6",
        "outputId": "64faad1f-7b03-42b8-df29-9d2ae451cd8c"
      },
      "outputs": [
        {
          "output_type": "stream",
          "name": "stdout",
          "text": [
            " * sqlite:///mydb.sqlite\n",
            "1 rows affected.\n",
            "Done.\n"
          ]
        },
        {
          "output_type": "execute_result",
          "data": {
            "text/plain": [
              "[(13, 3, 26, None), (32, 7, 30, 'L'), (13, 7, None, None)]"
            ],
            "text/html": [
              "<table>\n",
              "    <thead>\n",
              "        <tr>\n",
              "            <th>StudentID</th>\n",
              "            <th>CourseID</th>\n",
              "            <th>Grade</th>\n",
              "            <th>Laude</th>\n",
              "        </tr>\n",
              "    </thead>\n",
              "    <tbody>\n",
              "        <tr>\n",
              "            <td>13</td>\n",
              "            <td>3</td>\n",
              "            <td>26</td>\n",
              "            <td>None</td>\n",
              "        </tr>\n",
              "        <tr>\n",
              "            <td>32</td>\n",
              "            <td>7</td>\n",
              "            <td>30</td>\n",
              "            <td>L</td>\n",
              "        </tr>\n",
              "        <tr>\n",
              "            <td>13</td>\n",
              "            <td>7</td>\n",
              "            <td>None</td>\n",
              "            <td>None</td>\n",
              "        </tr>\n",
              "    </tbody>\n",
              "</table>"
            ]
          },
          "metadata": {},
          "execution_count": 15
        }
      ],
      "source": [
        "# Example 10\n",
        "# In this example, we will update the grade for student 32 in course 7 in the EXAM table\n",
        "# to indicate a Cum Laude (L)\n",
        "#\n",
        "%%sql\n",
        "UPDATE EXAM\n",
        "SET Laude = 'L'\n",
        "WHERE StudentID=32 AND CourseID=7;\n",
        "\n",
        "SELECT * FROM EXAM;"
      ]
    },
    {
      "cell_type": "markdown",
      "metadata": {
        "id": "AG92ITgJ6deV"
      },
      "source": [
        "#Views\n",
        "\n"
      ]
    },
    {
      "cell_type": "code",
      "execution_count": null,
      "metadata": {
        "colab": {
          "base_uri": "https://localhost:8080/",
          "height": 155
        },
        "id": "dAaYNO9y6oCA",
        "outputId": "f2bde620-a54a-4c54-b541-1b177de5194a"
      },
      "outputs": [
        {
          "output_type": "stream",
          "name": "stdout",
          "text": [
            " * sqlite:///mydb.sqlite\n",
            "Done.\n",
            "Done.\n",
            "Done.\n"
          ]
        },
        {
          "output_type": "execute_result",
          "data": {
            "text/plain": [
              "[(3, 'Algorithms'), (7, 'Databases')]"
            ],
            "text/html": [
              "<table>\n",
              "    <thead>\n",
              "        <tr>\n",
              "            <th>CourseID</th>\n",
              "            <th>CourseName</th>\n",
              "        </tr>\n",
              "    </thead>\n",
              "    <tbody>\n",
              "        <tr>\n",
              "            <td>3</td>\n",
              "            <td>Algorithms</td>\n",
              "        </tr>\n",
              "        <tr>\n",
              "            <td>7</td>\n",
              "            <td>Databases</td>\n",
              "        </tr>\n",
              "    </tbody>\n",
              "</table>"
            ]
          },
          "metadata": {},
          "execution_count": 16
        }
      ],
      "source": [
        "# Example 11\n",
        "#Create a view for user 13 (Batini)\n",
        "#DROP VIEW needed in case you rerun this cell\n",
        "#using\n",
        "#CREATE VIEW V13 (CourseID, CourseName) AS then a SQL query\n",
        "\n",
        "%%sql\n",
        "DROP VIEW if exists V13;\n",
        "\n",
        "\n",
        "CREATE VIEW V13 (CourseID, CourseName) AS\n",
        "SELECT EXAM.CourseID, Name\n",
        "FROM EXAM, COURSE\n",
        "WHERE EXAM.CourseID = COURSE.CourseID AND\n",
        "      EXAM.StudentID=13;\n",
        "\n",
        "SELECT * FROM V13;\n"
      ]
    },
    {
      "cell_type": "markdown",
      "metadata": {
        "id": "zU-W6It_PLyY"
      },
      "source": [
        "## 1.9 About the structure of a table"
      ]
    },
    {
      "cell_type": "code",
      "execution_count": null,
      "metadata": {
        "colab": {
          "base_uri": "https://localhost:8080/",
          "height": 162
        },
        "id": "Y3Z2emGQPZ1c",
        "outputId": "fc06aaea-b93b-4c1a-ec6d-ff3f2a2de724"
      },
      "outputs": [
        {
          "output_type": "stream",
          "name": "stdout",
          "text": [
            " * sqlite:///mydb.sqlite\n",
            "Done.\n"
          ]
        },
        {
          "output_type": "execute_result",
          "data": {
            "text/plain": [
              "[(0, 'StudentID', '', 0, None, 0),\n",
              " (1, 'CourseID', '', 0, None, 0),\n",
              " (2, 'Grade', '', 0, None, 0),\n",
              " (3, 'Laude', '', 0, None, 0)]"
            ],
            "text/html": [
              "<table>\n",
              "    <thead>\n",
              "        <tr>\n",
              "            <th>cid</th>\n",
              "            <th>name</th>\n",
              "            <th>type</th>\n",
              "            <th>notnull</th>\n",
              "            <th>dflt_value</th>\n",
              "            <th>pk</th>\n",
              "        </tr>\n",
              "    </thead>\n",
              "    <tbody>\n",
              "        <tr>\n",
              "            <td>0</td>\n",
              "            <td>StudentID</td>\n",
              "            <td></td>\n",
              "            <td>0</td>\n",
              "            <td>None</td>\n",
              "            <td>0</td>\n",
              "        </tr>\n",
              "        <tr>\n",
              "            <td>1</td>\n",
              "            <td>CourseID</td>\n",
              "            <td></td>\n",
              "            <td>0</td>\n",
              "            <td>None</td>\n",
              "            <td>0</td>\n",
              "        </tr>\n",
              "        <tr>\n",
              "            <td>2</td>\n",
              "            <td>Grade</td>\n",
              "            <td></td>\n",
              "            <td>0</td>\n",
              "            <td>None</td>\n",
              "            <td>0</td>\n",
              "        </tr>\n",
              "        <tr>\n",
              "            <td>3</td>\n",
              "            <td>Laude</td>\n",
              "            <td></td>\n",
              "            <td>0</td>\n",
              "            <td>None</td>\n",
              "            <td>0</td>\n",
              "        </tr>\n",
              "    </tbody>\n",
              "</table>"
            ]
          },
          "metadata": {},
          "execution_count": 17
        }
      ],
      "source": [
        "# Example 12\n",
        "# To show the structure of a table\n",
        "# We do the following as shown below.\n",
        "#\n",
        "%%sql\n",
        "PRAGMA  table_info(EXAM)"
      ]
    },
    {
      "cell_type": "markdown",
      "source": [
        "# Constraints"
      ],
      "metadata": {
        "id": "Ac8aB-gTP5Dq"
      }
    },
    {
      "cell_type": "code",
      "execution_count": null,
      "metadata": {
        "colab": {
          "base_uri": "https://localhost:8080/",
          "height": 179
        },
        "id": "_ut68z0BgfW9",
        "outputId": "a71825c0-e9c8-477a-b8e8-c29eaf441c99"
      },
      "outputs": [
        {
          "output_type": "stream",
          "name": "stdout",
          "text": [
            " * sqlite:///mydb.sqlite\n",
            "Done.\n",
            "Done.\n"
          ]
        },
        {
          "output_type": "execute_result",
          "data": {
            "text/plain": [
              "[(0, 'id', 'INTEGER', 0, None, 1),\n",
              " (1, 'name', 'TEXT', 0, None, 0),\n",
              " (2, 'age', 'INTEGER', 0, \"'Unknown'\", 0),\n",
              " (3, 'height', 'REAL', 0, None, 0)]"
            ],
            "text/html": [
              "<table>\n",
              "    <thead>\n",
              "        <tr>\n",
              "            <th>cid</th>\n",
              "            <th>name</th>\n",
              "            <th>type</th>\n",
              "            <th>notnull</th>\n",
              "            <th>dflt_value</th>\n",
              "            <th>pk</th>\n",
              "        </tr>\n",
              "    </thead>\n",
              "    <tbody>\n",
              "        <tr>\n",
              "            <td>0</td>\n",
              "            <td>id</td>\n",
              "            <td>INTEGER</td>\n",
              "            <td>0</td>\n",
              "            <td>None</td>\n",
              "            <td>1</td>\n",
              "        </tr>\n",
              "        <tr>\n",
              "            <td>1</td>\n",
              "            <td>name</td>\n",
              "            <td>TEXT</td>\n",
              "            <td>0</td>\n",
              "            <td>None</td>\n",
              "            <td>0</td>\n",
              "        </tr>\n",
              "        <tr>\n",
              "            <td>2</td>\n",
              "            <td>age</td>\n",
              "            <td>INTEGER</td>\n",
              "            <td>0</td>\n",
              "            <td>&#x27;Unknown&#x27;</td>\n",
              "            <td>0</td>\n",
              "        </tr>\n",
              "        <tr>\n",
              "            <td>3</td>\n",
              "            <td>height</td>\n",
              "            <td>REAL</td>\n",
              "            <td>0</td>\n",
              "            <td>None</td>\n",
              "            <td>0</td>\n",
              "        </tr>\n",
              "    </tbody>\n",
              "</table>"
            ]
          },
          "metadata": {},
          "execution_count": 18
        }
      ],
      "source": [
        "# Example 13\n",
        "# To specify domains and default values for the fields in a new table TeamMembers,\n",
        "# We do the following as shown below.\n",
        "#\n",
        "%%sql\n",
        "CREATE TABLE IF NOT EXISTS TeamMembers (\n",
        "    id INTEGER PRIMARY KEY,\n",
        "    name TEXT,\n",
        "    age INTEGER DEFAULT 'Unknown',\n",
        "    height REAL);\n",
        "\n",
        "PRAGMA  table_info(TeamMembers)"
      ]
    },
    {
      "cell_type": "code",
      "execution_count": null,
      "metadata": {
        "colab": {
          "base_uri": "https://localhost:8080/",
          "height": 201
        },
        "id": "cvdHcAELX39A",
        "outputId": "55e0a2fc-2ae7-4d9a-f7d3-0917daf21bc5"
      },
      "outputs": [
        {
          "output_type": "stream",
          "name": "stdout",
          "text": [
            " * sqlite:///mydb.sqlite\n",
            "Done.\n",
            "Done.\n"
          ]
        },
        {
          "output_type": "execute_result",
          "data": {
            "text/plain": [
              "[(0, 'PersonID', 'INT', 0, None, 0),\n",
              " (1, 'LastName', 'varchar(255)', 0, None, 0),\n",
              " (2, 'FirstName', 'varchar(255)', 0, None, 0),\n",
              " (3, 'Address', 'varchar(255)', 0, None, 0),\n",
              " (4, 'City', 'varchar(255)', 0, None, 0)]"
            ],
            "text/html": [
              "<table>\n",
              "    <thead>\n",
              "        <tr>\n",
              "            <th>cid</th>\n",
              "            <th>name</th>\n",
              "            <th>type</th>\n",
              "            <th>notnull</th>\n",
              "            <th>dflt_value</th>\n",
              "            <th>pk</th>\n",
              "        </tr>\n",
              "    </thead>\n",
              "    <tbody>\n",
              "        <tr>\n",
              "            <td>0</td>\n",
              "            <td>PersonID</td>\n",
              "            <td>INT</td>\n",
              "            <td>0</td>\n",
              "            <td>None</td>\n",
              "            <td>0</td>\n",
              "        </tr>\n",
              "        <tr>\n",
              "            <td>1</td>\n",
              "            <td>LastName</td>\n",
              "            <td>varchar(255)</td>\n",
              "            <td>0</td>\n",
              "            <td>None</td>\n",
              "            <td>0</td>\n",
              "        </tr>\n",
              "        <tr>\n",
              "            <td>2</td>\n",
              "            <td>FirstName</td>\n",
              "            <td>varchar(255)</td>\n",
              "            <td>0</td>\n",
              "            <td>None</td>\n",
              "            <td>0</td>\n",
              "        </tr>\n",
              "        <tr>\n",
              "            <td>3</td>\n",
              "            <td>Address</td>\n",
              "            <td>varchar(255)</td>\n",
              "            <td>0</td>\n",
              "            <td>None</td>\n",
              "            <td>0</td>\n",
              "        </tr>\n",
              "        <tr>\n",
              "            <td>4</td>\n",
              "            <td>City</td>\n",
              "            <td>varchar(255)</td>\n",
              "            <td>0</td>\n",
              "            <td>None</td>\n",
              "            <td>0</td>\n",
              "        </tr>\n",
              "    </tbody>\n",
              "</table>"
            ]
          },
          "metadata": {},
          "execution_count": 26
        }
      ],
      "source": [
        "# Example 14\n",
        "# To specify domains and default values for the fields in a new table TeamMembers,\n",
        "# We do the following as shown below.\n",
        "#\n",
        "%%sql\n",
        "CREATE TABLE Persons (\n",
        "PersonID int,\n",
        "LastName varchar(255),\n",
        "FirstName varchar(255),\n",
        "Address varchar(255),\n",
        "City varchar(255)\n",
        ");\n",
        "\n",
        "PRAGMA  table_info(Persons)"
      ]
    },
    {
      "cell_type": "code",
      "source": [
        "#with PRAGMA analyse the COURSE and EXAM tables\n",
        "\n",
        "%%sql\n",
        "PRAGMA table_info(COURSE)"
      ],
      "metadata": {
        "colab": {
          "base_uri": "https://localhost:8080/",
          "height": 119
        },
        "id": "1ALlgZXLna1N",
        "outputId": "a5240f04-d4e1-44a9-9cb2-932cdff8eb71"
      },
      "execution_count": null,
      "outputs": [
        {
          "output_type": "stream",
          "name": "stdout",
          "text": [
            " * sqlite:///mydb.sqlite\n",
            "Done.\n"
          ]
        },
        {
          "output_type": "execute_result",
          "data": {
            "text/plain": [
              "[(0, 'CourseID', 'INTEGER', 0, None, 0), (1, 'Name', 'TEXT', 0, None, 0)]"
            ],
            "text/html": [
              "<table>\n",
              "    <thead>\n",
              "        <tr>\n",
              "            <th>cid</th>\n",
              "            <th>name</th>\n",
              "            <th>type</th>\n",
              "            <th>notnull</th>\n",
              "            <th>dflt_value</th>\n",
              "            <th>pk</th>\n",
              "        </tr>\n",
              "    </thead>\n",
              "    <tbody>\n",
              "        <tr>\n",
              "            <td>0</td>\n",
              "            <td>CourseID</td>\n",
              "            <td>INTEGER</td>\n",
              "            <td>0</td>\n",
              "            <td>None</td>\n",
              "            <td>0</td>\n",
              "        </tr>\n",
              "        <tr>\n",
              "            <td>1</td>\n",
              "            <td>Name</td>\n",
              "            <td>TEXT</td>\n",
              "            <td>0</td>\n",
              "            <td>None</td>\n",
              "            <td>0</td>\n",
              "        </tr>\n",
              "    </tbody>\n",
              "</table>"
            ]
          },
          "metadata": {},
          "execution_count": 52
        }
      ]
    },
    {
      "cell_type": "code",
      "source": [
        "%%sql\n",
        "PRAGMA table_info(EXAM)\n"
      ],
      "metadata": {
        "colab": {
          "base_uri": "https://localhost:8080/",
          "height": 162
        },
        "id": "IwGEikbBn5lf",
        "outputId": "dc36db12-a7d6-45cb-8e27-ee113dab4919"
      },
      "execution_count": null,
      "outputs": [
        {
          "output_type": "stream",
          "name": "stdout",
          "text": [
            " * sqlite:///mydb.sqlite\n",
            "Done.\n"
          ]
        },
        {
          "output_type": "execute_result",
          "data": {
            "text/plain": [
              "[(0, 'StudentID', '', 0, None, 0),\n",
              " (1, 'CourseID', '', 0, None, 0),\n",
              " (2, 'Grade', '', 0, None, 0),\n",
              " (3, 'Laude', '', 0, None, 0)]"
            ],
            "text/html": [
              "<table>\n",
              "    <thead>\n",
              "        <tr>\n",
              "            <th>cid</th>\n",
              "            <th>name</th>\n",
              "            <th>type</th>\n",
              "            <th>notnull</th>\n",
              "            <th>dflt_value</th>\n",
              "            <th>pk</th>\n",
              "        </tr>\n",
              "    </thead>\n",
              "    <tbody>\n",
              "        <tr>\n",
              "            <td>0</td>\n",
              "            <td>StudentID</td>\n",
              "            <td></td>\n",
              "            <td>0</td>\n",
              "            <td>None</td>\n",
              "            <td>0</td>\n",
              "        </tr>\n",
              "        <tr>\n",
              "            <td>1</td>\n",
              "            <td>CourseID</td>\n",
              "            <td></td>\n",
              "            <td>0</td>\n",
              "            <td>None</td>\n",
              "            <td>0</td>\n",
              "        </tr>\n",
              "        <tr>\n",
              "            <td>2</td>\n",
              "            <td>Grade</td>\n",
              "            <td></td>\n",
              "            <td>0</td>\n",
              "            <td>None</td>\n",
              "            <td>0</td>\n",
              "        </tr>\n",
              "        <tr>\n",
              "            <td>3</td>\n",
              "            <td>Laude</td>\n",
              "            <td></td>\n",
              "            <td>0</td>\n",
              "            <td>None</td>\n",
              "            <td>0</td>\n",
              "        </tr>\n",
              "    </tbody>\n",
              "</table>"
            ]
          },
          "metadata": {},
          "execution_count": 54
        }
      ]
    },
    {
      "cell_type": "markdown",
      "metadata": {
        "id": "IjWfAqszO5Zo"
      },
      "source": [
        "## 1.10 SQL result set to a local variable and then to CSV"
      ]
    },
    {
      "cell_type": "code",
      "execution_count": null,
      "metadata": {
        "colab": {
          "base_uri": "https://localhost:8080/"
        },
        "id": "vApCEdDQO33m",
        "outputId": "c100329c-a434-49e6-a0c5-9ea92a3aa2d1"
      },
      "outputs": [
        {
          "output_type": "stream",
          "name": "stdout",
          "text": [
            " * sqlite:///mydb.sqlite\n",
            "Done.\n",
            "Returning data to local variable result_set\n"
          ]
        }
      ],
      "source": [
        "# Example 15\n",
        "# To export the result of a query to a local variable result_set\n",
        "\n",
        "%%sql\n",
        "result_set << SELECT * FROM EXAM;"
      ]
    },
    {
      "cell_type": "code",
      "execution_count": null,
      "metadata": {
        "id": "bKx6ca7-QFrz"
      },
      "outputs": [],
      "source": [
        "# Example 16\n",
        "# And then to a CSV file (in local folders Files)\n",
        "\n",
        "df = result_set.DataFrame()\n",
        "df.to_csv('EXAM.csv', index=False, sep=';')\n",
        "\n",
        "#alternative\n",
        "#result_set.DataFrame().to_csv('EXAM.csv', index=False, sep=';')\n",
        "\n",
        "\n"
      ]
    },
    {
      "cell_type": "code",
      "source": [
        "#see the file  !head <filename> shows the first 10 lines\n",
        "\n",
        "\n",
        "!head EXAM.csv"
      ],
      "metadata": {
        "colab": {
          "base_uri": "https://localhost:8080/"
        },
        "id": "vjyyfH7xVw_S",
        "outputId": "a70075c2-bf44-4b3b-9f6b-3c9731874312"
      },
      "execution_count": null,
      "outputs": [
        {
          "output_type": "stream",
          "name": "stdout",
          "text": [
            "StudentID;CourseID;Grade;Laude\n",
            "13;3;26.0;\n",
            "32;7;30.0;L\n",
            "13;7;;\n"
          ]
        }
      ]
    },
    {
      "cell_type": "code",
      "source": [
        "#to see the whole file (in this case is the same)\n",
        "\n",
        "!cat EXAM.csv"
      ],
      "metadata": {
        "colab": {
          "base_uri": "https://localhost:8080/"
        },
        "id": "qT9GcyBPWLps",
        "outputId": "57175c22-3413-4c14-b7ca-a905c3473a28"
      },
      "execution_count": null,
      "outputs": [
        {
          "output_type": "stream",
          "name": "stdout",
          "text": [
            "StudentID;CourseID;Grade;Laude\n",
            "13;3;26.0;\n",
            "32;7;30.0;L\n",
            "13;7;;\n"
          ]
        }
      ]
    },
    {
      "cell_type": "code",
      "source": [
        "#export also STUDENT\n",
        "\n",
        "%%sql\n",
        "result_set << SELECT * FROM STUDENT;\n",
        "\n",
        "\n"
      ],
      "metadata": {
        "colab": {
          "base_uri": "https://localhost:8080/"
        },
        "id": "oCHlG5jlX5Hw",
        "outputId": "a1b8df52-81a6-4835-ab05-d267343a64ae"
      },
      "execution_count": null,
      "outputs": [
        {
          "output_type": "stream",
          "name": "stdout",
          "text": [
            " * sqlite:///mydb.sqlite\n",
            "Done.\n",
            "Returning data to local variable result_set\n"
          ]
        }
      ]
    },
    {
      "cell_type": "code",
      "source": [
        "df = result_set.DataFrame()\n",
        "df.to_csv('STUDENT.csv', index=False, sep=';')"
      ],
      "metadata": {
        "id": "uU31WGZIY1J_"
      },
      "execution_count": null,
      "outputs": []
    },
    {
      "cell_type": "code",
      "source": [
        "#an alternative\n",
        "#SQL and Python in the same cell\n",
        "\n",
        "%sql result_set << SELECT * FROM STUDENT;\n",
        "df = result_set.DataFrame()\n",
        "df.to_csv('STUDENT2.csv', index=False, sep=';')"
      ],
      "metadata": {
        "colab": {
          "base_uri": "https://localhost:8080/"
        },
        "id": "EaQ6BP8fjyN2",
        "outputId": "608c50be-b6be-4540-980a-8da6eb132b79"
      },
      "execution_count": null,
      "outputs": [
        {
          "output_type": "stream",
          "name": "stdout",
          "text": [
            " * sqlite:///mydb.sqlite\n",
            "Done.\n",
            "Returning data to local variable result_set\n"
          ]
        }
      ]
    },
    {
      "cell_type": "markdown",
      "metadata": {
        "id": "Xr_iw9O1gynX"
      },
      "source": [
        "## <font color=\"green\"> 1.11 Challenges</font>"
      ]
    },
    {
      "cell_type": "code",
      "execution_count": null,
      "metadata": {
        "colab": {
          "base_uri": "https://localhost:8080/",
          "height": 68
        },
        "id": "H0X577pGgxuY",
        "outputId": "8608571e-eccc-41d9-eb69-4eca236b33b0"
      },
      "outputs": [
        {
          "name": "stdout",
          "output_type": "stream",
          "text": [
            " * sqlite://\n",
            "Done.\n"
          ]
        },
        {
          "data": {
            "text/plain": [
              "[]"
            ]
          },
          "execution_count": 47,
          "metadata": {
            "tags": []
          },
          "output_type": "execute_result"
        }
      ],
      "source": [
        "# Challenge 1\n",
        "# Let's create 3 Tables Customer, Product, Sale\n",
        "# Each has a key, attributes for describing them (e.g. Name, age for customers, brand for Products)\n",
        "# Sales contains tuples indicating sales of products to customers, with Quantity and Date\n",
        "# Insert 2 customers and 3 products\n",
        "# Insert a tuple into Sale\n",
        "# Display the age of Customers and Date for each sale\n",
        "# Tip1: you can also create csv files and upload them as shown in Example 4\n",
        "# Tip2: if you want to delete a table and its contents to restart you can use\n",
        "# DROP TABLE TableName;\n",
        "\n",
        "%%sql\n",
        "CREATE TABLE IF NOT EXISTS ....(\n",
        "\n",
        "\n"
      ]
    }
  ],
  "metadata": {
    "colab": {
      "collapsed_sections": [
        "_D8JbTh02GDA"
      ],
      "provenance": [],
      "include_colab_link": true
    },
    "gpuClass": "standard",
    "kernelspec": {
      "display_name": "Python 3",
      "name": "python3"
    }
  },
  "nbformat": 4,
  "nbformat_minor": 0
}